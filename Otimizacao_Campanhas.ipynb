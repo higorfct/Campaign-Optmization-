{
  "nbformat": 4,
  "nbformat_minor": 0,
  "metadata": {
    "colab": {
      "provenance": []
    },
    "kernelspec": {
      "name": "python3",
      "display_name": "Python 3"
    },
    "language_info": {
      "name": "python"
    }
  },
  "cells": [
    {
      "cell_type": "markdown",
      "source": [
        "# Projeto 1: Otimização de Campanhas de Marketing"
      ],
      "metadata": {
        "id": "ci3hWnx_CaKG"
      }
    },
    {
      "cell_type": "markdown",
      "source": [
        "### Importações"
      ],
      "metadata": {
        "id": "HnfDkyYECf6k"
      }
    },
    {
      "cell_type": "code",
      "source": [
        "import pandas as pd\n",
        "import numpy as np\n",
        "import matplotlib.pyplot as plt\n",
        "from sklearn.model_selection import train_test_split\n",
        "from sklearn.linear_model import LinearRegression\n",
        "from sklearn.preprocessing import OneHotEncoder\n",
        "from sklearn.metrics import mean_squared_error, root_mean_squared_error, mean_absolute_error"
      ],
      "metadata": {
        "id": "j207x6aZAQxW"
      },
      "execution_count": null,
      "outputs": []
    },
    {
      "cell_type": "markdown",
      "source": [
        "### Dados"
      ],
      "metadata": {
        "id": "VpwW2PHGCh7s"
      }
    },
    {
      "cell_type": "code",
      "source": [
        "df = pd.read_csv(\"campaigns.csv\")\n",
        "df.head()"
      ],
      "metadata": {
        "id": "Eum2qZ76ATMw"
      },
      "execution_count": null,
      "outputs": []
    },
    {
      "cell_type": "markdown",
      "source": [
        "### Pré-Processamento"
      ],
      "metadata": {
        "id": "4Y50hz91AnT5"
      }
    },
    {
      "cell_type": "code",
      "source": [
        "# Dividindo as variáveis entre preditoras e variável alvo (ou dependente)\n",
        "X = df[[\"budget\", \"channel\", \"engagement\"]]\n",
        "y = df[\"roi\"]\n",
        "\n",
        "# one hot para channel\n",
        "encoder = OneHotEncoder(sparse_output=False, handle_unknown=\"ignore\")\n",
        "X_encoded = encoder.fit_transform(X[[\"channel\"]])\n",
        "\n",
        "X_encoded"
      ],
      "metadata": {
        "id": "joe6xQXnA8MG"
      },
      "execution_count": null,
      "outputs": []
    },
    {
      "cell_type": "code",
      "source": [
        "# Como o one-hot encoding foi utilizado nas variáveis preditoras, os dados acabaram ficando com apenas uma dimensão (em forma de vetor).\n",
        "#Este reshape garante que os dados retornem ao formato de matriz para rodar o modelo de ML\n",
        "X_encoded = X_encoded.reshape(-1, X_encoded.shape[1])\n",
        "\n",
        "# O código abaixo combina colunas numéricas que já existiam (budget e engagement) com as variáveis que foram codificadas no one-hot encoding.\n",
        "# Isso cria uma matriz final de entrada (X_final) com todas as variáveis relevantes que serão usadas no modelo.\n",
        "X_final = np.hstack((X[[\"budget\", \"engagement\"]].values, X_encoded))\n",
        "\n",
        "X_final"
      ],
      "metadata": {
        "id": "476X9FghfN3W"
      },
      "execution_count": null,
      "outputs": []
    },
    {
      "cell_type": "code",
      "source": [
        "# Dividir dados em treino e teste, com 70% do dataset para treino e 30% para teste.\n",
        "#Além disso, utilizamos o random_state=42 para garantir a reprodutibilidade dos resultados, para que os resultados sempre sejam os mesmos sempre que o código for executado\n",
        "X_train, X_test, y_train, y_test = train_test_split(X_final, y, test_size=0.3, random_state=42)"
      ],
      "metadata": {
        "id": "JQau1y_jfThk"
      },
      "execution_count": null,
      "outputs": []
    },
    {
      "cell_type": "markdown",
      "source": [
        "### Treinamento do Modelo"
      ],
      "metadata": {
        "id": "TkxrLJVGBABk"
      }
    },
    {
      "cell_type": "code",
      "source": [
        "model = LinearRegression()\n",
        "model.fit(X_train, y_train)"
      ],
      "metadata": {
        "id": "ZSqtaSHiA_Lc"
      },
      "execution_count": null,
      "outputs": []
    },
    {
      "cell_type": "markdown",
      "source": [
        "### Avaliação do Modelo"
      ],
      "metadata": {
        "id": "PO8VmdwvBF6B"
      }
    },
    {
      "cell_type": "code",
      "source": [
        "# Fazer previsões no conjunto de teste\n",
        "y_pred = model.predict(X_test)\n",
        "\n",
        "# Calcular o Mean Squared Error (MSE)\n",
        "mse = mean_squared_error(y_test, y_pred)\n",
        "print(f\"Mean Squared Error (MSE): {mse}\")\n",
        "\n",
        "# Calcular o Root Mean Squared Error (RMSE)\n",
        "rmse = np.sqrt(mse)\n",
        "print(f\"Root Mean Squared Error (RMSE): {rmse}\")\n",
        "\n",
        "# Calcular o Mean Absolute Error (MAE)\n",
        "mae = mean_absolute_error(y_test, y_pred)\n",
        "print(f\"Mean Absolute Error (MAE): {mae}\")"
      ],
      "metadata": {
        "id": "3BAY5OpoBFQw"
      },
      "execution_count": null,
      "outputs": []
    },
    {
      "cell_type": "markdown",
      "source": [
        "# Visualização Gráfica da Relação entre as Variáveis\n"
      ],
      "metadata": {
        "id": "YbM_gmdvyr1K"
      }
    },
    {
      "cell_type": "code",
      "source": [
        "import matplotlib.pyplot as plt\n",
        "import seaborn as sns\n",
        "\n",
        "plt.figure(figsize=(10, 5))\n",
        "sns.regplot(x=\"budget\", y=\"roi\", data=df, scatter_kws={\"color\": \"red\"}, line_kws={\"color\": \"blue\"})\n",
        "plt.xlabel(\"Budget\")\n",
        "plt.ylabel(\"ROI\")\n",
        "plt.title(\"Relação entre Budget e ROI\")\n",
        "plt.show()\n",
        "\n",
        "plt.figure(figsize=(10, 5))\n",
        "sns.regplot(x=\"engagement\", y=\"roi\", data=df, scatter_kws={\"color\": \"black\"}, line_kws={\"color\": \"blue\"})\n",
        "plt.xlabel(\"Engagement\")\n",
        "plt.ylabel(\"ROI\")\n",
        "plt.title(\"Relação entre Engagement e ROI\")\n",
        "plt.show()\n"
      ],
      "metadata": {
        "id": "lV7z_5LdymT_"
      },
      "execution_count": null,
      "outputs": []
    },
    {
      "cell_type": "markdown",
      "source": [
        "# Otimização de Campanhas"
      ],
      "metadata": {
        "id": "vTO4gtC2BwGM"
      }
    },
    {
      "cell_type": "code",
      "source": [
        "#Primeiro, criamos uma função para sugerir a otimização de campanhas de marketing com base em 3 variáveis chave: budget, channel e engagement\n",
        "def suggest_optimization(budget, channel, engagement):\n",
        "    input_df = pd.DataFrame([[budget, channel, engagement]], columns=[\"budget\", \"channel\", \"engagement\"])\n",
        "\n",
        "    # pré-processa da mesma forma feita no modelo\n",
        "    channel_encoded = encoder.transform(input_df[[\"channel\"]]) #Transforma a variável categórica \"channel\" em dummies.\n",
        "    channel_encoded = channel_encoded.reshape(1, -1)  # Ajuste para evitar erro de dimensão, garantindo que tenha uma linha e múltiplas colunas\n",
        "    input_data = np.hstack((input_df[[\"budget\", \"engagement\"]].values, channel_encoded)) #Concatena horizontalmente os valores numéricos de \"budget\" e \"engagement\" com os valores codificados, criando um vetor completo de entrada no mesmo formato do que o utilizado pelo modelo durante o treinamento\n",
        "\n",
        "    # Prever ROI\n",
        "    predicted_roi = model.predict(input_data)[0]\n",
        "    return predicted_roi"
      ],
      "metadata": {
        "id": "wiVn9EI3Bz-G"
      },
      "execution_count": null,
      "outputs": []
    },
    {
      "cell_type": "markdown",
      "source": [
        "# Comparação de Canais"
      ],
      "metadata": {
        "id": "CTj7kgtn326V"
      }
    },
    {
      "cell_type": "code",
      "source": [
        "def compare_channels(budget, engagement):\n",
        "    # Obtém a lista de canais possíveis codificados pelo encoder\n",
        "    possible_channels = encoder.categories_[0]\n",
        "\n",
        "    # Inicializa variáveis para armazenar o melhor canal e o maior ROI encontrado\n",
        "    best_channel = None\n",
        "    best_roi = -float(\"inf\")\n",
        "\n",
        "    # Lista para guardar resultados de cada canal\n",
        "    results = []\n",
        "\n",
        "    # Para cada canal possível, prevê o ROI usando a função suggest_optimization\n",
        "    for channel in possible_channels:\n",
        "        predicted_roi = suggest_optimization(budget, channel, engagement)\n",
        "\n",
        "        # Armazena o canal e o ROI previsto na lista de resultados\n",
        "        results.append((channel, predicted_roi))\n",
        "\n",
        "        # Atualiza o melhor canal e ROI caso o atual seja maior\n",
        "        if predicted_roi > best_roi:\n",
        "            best_roi = predicted_roi\n",
        "            best_channel = channel\n",
        "\n",
        "    # Imprime a comparação dos ROIs para todos os canais\n",
        "    print(\"Comparação entre canais:\")\n",
        "    for channel, roi in results:\n",
        "        print(f\"Canal: {channel}, ROI Previsto: {roi:.2f}\")\n",
        "\n",
        "    # Retorna o melhor canal sugerido com seu ROI previsto formatado\n",
        "    return f\"Melhor canal sugerido: {best_channel} com ROI previsto de {best_roi:.2f}.\"\n",
        "\n"
      ],
      "metadata": {
        "id": "r5LmLrvOj-vo"
      },
      "execution_count": null,
      "outputs": []
    },
    {
      "cell_type": "markdown",
      "source": [
        "### Previsões de ROI"
      ],
      "metadata": {
        "id": "Bk119t4aCQs7"
      }
    },
    {
      "cell_type": "markdown",
      "source": [
        "Dado o Budget, o Canal e o Engangement, qual o ROI?"
      ],
      "metadata": {
        "id": "eOJ_VMhsdwtX"
      }
    },
    {
      "cell_type": "code",
      "source": [
        "budget = 6000\n",
        "channel = \"Facebook\"\n",
        "engagement = 1400\n",
        "roi = suggest_optimization(budget, channel, engagement)\n",
        "print(f\"ROI previsto: {roi:.2f}\")"
      ],
      "metadata": {
        "id": "RC2fBKEi8sVR"
      },
      "execution_count": null,
      "outputs": []
    },
    {
      "cell_type": "markdown",
      "source": [
        "\n",
        "Considerando somente Budget e Engagement, qual channel tem maior ROI?"
      ],
      "metadata": {
        "id": "3kpXvOssd_kM"
      }
    },
    {
      "cell_type": "code",
      "source": [
        "budget = 6000\n",
        "engagement = 1400\n",
        "best_channel = compare_channels(budget, engagement)\n",
        "print(best_channel)"
      ],
      "metadata": {
        "id": "iLONctf0eHcX"
      },
      "execution_count": null,
      "outputs": []
    }
  ]
}